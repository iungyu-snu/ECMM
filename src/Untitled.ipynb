{
 "cells": [
  {
   "cell_type": "code",
   "execution_count": 1,
   "id": "9cb7c7f3-4b6c-42e5-9fe2-640fdcd57bf8",
   "metadata": {},
   "outputs": [],
   "source": [
    "import torch\n",
    "from dataset import FastaDataset\n",
    "from model import Linear_esm"
   ]
  },
  {
   "cell_type": "code",
   "execution_count": null,
   "id": "492958b4-d378-41b6-8e5d-f970e929c33e",
   "metadata": {},
   "outputs": [],
   "source": [
    "\n",
    "model = Linear_esm(model_location, output_dim, , 11, dropout_rate).to(device)\n"
   ]
  }
 ],
 "metadata": {
  "kernelspec": {
   "display_name": "Training",
   "language": "python",
   "name": "myenv"
  },
  "language_info": {
   "codemirror_mode": {
    "name": "ipython",
    "version": 3
   },
   "file_extension": ".py",
   "mimetype": "text/x-python",
   "name": "python",
   "nbconvert_exporter": "python",
   "pygments_lexer": "ipython3",
   "version": "3.12.4"
  }
 },
 "nbformat": 4,
 "nbformat_minor": 5
}
